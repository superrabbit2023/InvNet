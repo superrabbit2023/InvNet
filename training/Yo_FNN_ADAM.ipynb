{
 "cells": [
  {
   "cell_type": "code",
   "execution_count": null,
   "metadata": {
    "colab": {
     "base_uri": "https://localhost:8080/"
    },
    "executionInfo": {
     "elapsed": 29031,
     "status": "ok",
     "timestamp": 1648514570883,
     "user": {
      "displayName": "Ramsfield Lee",
      "photoUrl": "https://lh3.googleusercontent.com/a-/AOh14GiHPffa6hxu7mszm5ZYTfN7ZGsy0zsXFpnUK65SWA=s64",
      "userId": "05718072999768408940"
     },
     "user_tz": 240
    },
    "id": "ExLEi_TVowna",
    "outputId": "f3634a36-87a8-4b32-f899-fe91ba7510c3",
    "scrolled": true,
    "tags": []
   },
   "outputs": [],
   "source": [
    "# ==================================================================================================\n",
    "# Yufei Li\n",
    "# Princeton University\n",
    "# yl5385@princeton.edu\n",
    "\n",
    "# Feburay 2023\n",
    "\n",
    "# Note:In this demo, the neural network is synthesized using the TensorFlow (verion: 2.11.0) framework. \n",
    "# Please install TensorFlow according to the official guidance, then import TensorFlow and other dependent modules.\n",
    "# ==================================================================================================\n",
    "\n",
    "!pip install pandas numpy matplotlib\n",
    "!pip install tensorflow"
   ]
  },
  {
   "cell_type": "code",
   "execution_count": null,
   "metadata": {
    "colab": {
     "base_uri": "https://localhost:8080/"
    },
    "executionInfo": {
     "elapsed": 337,
     "status": "ok",
     "timestamp": 1648518191561,
     "user": {
      "displayName": "Ramsfield Lee",
      "photoUrl": "https://lh3.googleusercontent.com/a-/AOh14GiHPffa6hxu7mszm5ZYTfN7ZGsy0zsXFpnUK65SWA=s64",
      "userId": "05718072999768408940"
     },
     "user_tz": 240
    },
    "id": "LAYr_kNioymd",
    "outputId": "e7354939-02a1-43ad-8e93-eeda6669f337",
    "scrolled": true,
    "tags": []
   },
   "outputs": [],
   "source": [
    "import tensorflow as tf\n",
    "\n",
    "import matplotlib.pyplot as plt\n",
    "import numpy as np\n",
    "import pandas as pd\n",
    "import random\n",
    "import copy\n",
    "import csv\n",
    "import math\n",
    "import cmath\n",
    "import time\n",
    "\n",
    "inFilename = \"Input_Yo20op1084_ana.csv\"\n",
    "outFilename = \"Output_Yo20op1084_ana.csv\"\n",
    "\n",
    "Input = pd.read_csv(inFilename,header=None)\n",
    "Output = pd.read_csv(outFilename,header=None)\n",
    "\n",
    "print(Input.dtypes)\n",
    "print(Output.dtypes)\n",
    "\n",
    "inputs = []\n",
    "outputs = []\n",
    "\n",
    "inputs = np.array(Input)\n",
    "outputs = np.array(Output)\n",
    "print(inputs)\n",
    "print(outputs)"
   ]
  },
  {
   "cell_type": "code",
   "execution_count": null,
   "metadata": {
    "colab": {
     "base_uri": "https://localhost:8080/"
    },
    "executionInfo": {
     "elapsed": 547,
     "status": "ok",
     "timestamp": 1648518194874,
     "user": {
      "displayName": "Ramsfield Lee",
      "photoUrl": "https://lh3.googleusercontent.com/a-/AOh14GiHPffa6hxu7mszm5ZYTfN7ZGsy0zsXFpnUK65SWA=s64",
      "userId": "05718072999768408940"
     },
     "user_tz": 240
    },
    "id": "8EBPxpFuo9xb",
    "outputId": "0d991ff1-3c78-48ad-eba9-b69f542cee3c",
    "scrolled": true,
    "tags": []
   },
   "outputs": [],
   "source": [
    "# Randomize the order of the inputs, so they can be evenly distributed for training, testing, and validation\n",
    "\n",
    "num_inputs = len(inputs)\n",
    "print(\"Total Number of Dataset is:\",num_inputs)\n",
    "randomize = np.arange(num_inputs)\n",
    "print(randomize)\n",
    "\n",
    "inputs_origin = copy.deepcopy(inputs[randomize])\n",
    "outputs_origin = copy.deepcopy(outputs[randomize])\n",
    "print(inputs_origin)\n",
    "\n",
    "random.Random(5).shuffle(randomize)\n",
    "print(randomize)\n",
    "# Swap the consecutive indexes (0, 1, 2, etc) with the randomized indexes\n",
    "inputs_real = copy.deepcopy(inputs_origin[randomize])\n",
    "outputs_real = copy.deepcopy(outputs_origin[randomize])\n",
    "print(inputs_real)\n",
    "print(outputs_real)\n",
    "\n",
    "# Split the recordings (group of samples) into two sets: training and testing\n",
    "TRAIN_SPLIT = int(0.7 * num_inputs)\n",
    "inputs_train, inputs_test = np.split(inputs_real, [TRAIN_SPLIT])\n",
    "outputs_train, outputs_test = np.split(outputs_real, [TRAIN_SPLIT])\n",
    "\n",
    "num_inputs_train = len(inputs_train)\n",
    "print(\"Total Number of training Dataset is:\",num_inputs_train)\n",
    "print(\"Dataset randomization and separation complete!\")"
   ]
  },
  {
   "cell_type": "code",
   "execution_count": null,
   "metadata": {
    "scrolled": true,
    "tags": []
   },
   "outputs": [],
   "source": [
    "# build the model and train it\n",
    "initial_learning_rate = 0.020669824682365133\n",
    "lr_schedule = tf.keras.optimizers.schedules.ExponentialDecay(\n",
    "  initial_learning_rate,\n",
    "  decay_steps=375*65,\n",
    "  decay_rate=0.575401007701697,\n",
    "  staircase=True)\n",
    "\n",
    "Normlayer1=tf.keras.layers.Normalization()\n",
    "Normlayer1.adapt(inputs_real)\n",
    "\n",
    "model = tf.keras.Sequential()\n",
    "model.add(Normlayer1)\n",
    "model.add(tf.keras.layers.Dense(43, activation='sigmoid'))\n",
    "model.add(tf.keras.layers.Dense(56, activation='sigmoid'))\n",
    "model.add(tf.keras.layers.Dense(43, activation='sigmoid'))\n",
    "model.add(tf.keras.layers.Dense(8))\n",
    "\n",
    "#Train using Adam\n",
    "opt = tf.keras.optimizers.Adam(learning_rate=lr_schedule)\n",
    "model.compile(optimizer=opt, loss='mse', metrics=['mse'])\n",
    "\n",
    "t2_start = time.perf_counter()\n",
    "history = model.fit(inputs_train, outputs_train, epochs=600, batch_size=16, validation_data=(inputs_test, outputs_test))\n",
    "t2_stop = time.perf_counter()\n",
    "print(\"Elapsed time: \", t2_stop - t2_start)\n",
    "\n",
    "print(model.evaluate(inputs_test, outputs_test, verbose=0))"
   ]
  },
  {
   "cell_type": "code",
   "execution_count": null,
   "metadata": {
    "colab": {
     "base_uri": "https://localhost:8080/",
     "height": 421
    },
    "executionInfo": {
     "elapsed": 761,
     "status": "ok",
     "timestamp": 1648525798950,
     "user": {
      "displayName": "Ramsfield Lee",
      "photoUrl": "https://lh3.googleusercontent.com/a-/AOh14GiHPffa6hxu7mszm5ZYTfN7ZGsy0zsXFpnUK65SWA=s64",
      "userId": "05718072999768408940"
     },
     "user_tz": 240
    },
    "id": "qaBsCVo7pBIw",
    "outputId": "ce0c9fb6-19cc-49a6-81a5-b48a4f7f93a6",
    "tags": []
   },
   "outputs": [],
   "source": [
    "# # increase the size of the graphs. The default size is (6,4).\n",
    "plt.rcParams[\"figure.figsize\"] = (9,6)\n",
    "\n",
    "# summarize history for loss\n",
    "plt.plot(history.history['loss'], '-r.', label='Training Loss')\n",
    "plt.plot(history.history['val_loss'], '--b.', label='Validation Loss')\n",
    "plt.title('Training and Validation Loss')\n",
    "plt.xlabel('Epochs')\n",
    "plt.ylabel('Loss')\n",
    "plt.legend()\n",
    "plt.semilogy()\n",
    "plt.grid()\n",
    "plt.show()\n",
    "\n",
    "print(plt.rcParams[\"figure.figsize\"])\n",
    "#print(history.history)"
   ]
  },
  {
   "cell_type": "code",
   "execution_count": null,
   "metadata": {},
   "outputs": [],
   "source": [
    "# Save inputs index\n",
    "with open('Yo20op1084_ana_inputs.csv','w', newline=\"\") as output_file:\n",
    "    writer = csv.writer(output_file)\n",
    "    writer.writerows(Y_input)\n",
    "# Save predcition from FNN\n",
    "with open('Yo20op1084_ana_prediction.csv','w', newline=\"\") as output_file:\n",
    "    writer = csv.writer(output_file)\n",
    "    writer.writerows(Y_pred)\n",
    "# Save original data\n",
    "with open('Yo20op1084_ana_outputs.csv','w', newline=\"\") as output_file:\n",
    "    writer = csv.writer(output_file)\n",
    "    writer.writerows(Y_output)"
   ]
  },
  {
   "cell_type": "code",
   "execution_count": null,
   "metadata": {
    "colab": {
     "base_uri": "https://localhost:8080/"
    },
    "executionInfo": {
     "elapsed": 473,
     "status": "ok",
     "timestamp": 1648264764413,
     "user": {
      "displayName": "Ramsfield Lee",
      "photoUrl": "https://lh3.googleusercontent.com/a-/AOh14GiHPffa6hxu7mszm5ZYTfN7ZGsy0zsXFpnUK65SWA=s64",
      "userId": "05718072999768408940"
     },
     "user_tz": 240
    },
    "id": "DblOFeB3pDsb",
    "outputId": "28f2f4b8-0442-47d7-daa6-4d0132d1e4a1",
    "scrolled": true,
    "tags": []
   },
   "outputs": [],
   "source": [
    "# Use the model to predict test data\n",
    "output_pred = model.predict(inputs_test)\n",
    "#print(output_pred)\n",
    "output_diff = output_pred - outputs_test\n",
    "MSE = np.square(np.subtract(output_pred,outputs_test)).mean()\n",
    "print(output_diff)\n",
    "print(MSE)"
   ]
  }
 ],
 "metadata": {
  "colab": {
   "collapsed_sections": [],
   "name": "YdqFNN.ipynb",
   "provenance": []
  },
  "kernelspec": {
   "display_name": "Python 3 (ipykernel)",
   "language": "python",
   "name": "python3"
  },
  "language_info": {
   "codemirror_mode": {
    "name": "ipython",
    "version": 3
   },
   "file_extension": ".py",
   "mimetype": "text/x-python",
   "name": "python",
   "nbconvert_exporter": "python",
   "pygments_lexer": "ipython3",
   "version": "3.9.13"
  }
 },
 "nbformat": 4,
 "nbformat_minor": 4
}
