{
 "cells": [
  {
   "cell_type": "code",
   "execution_count": null,
   "metadata": {
    "colab": {
     "base_uri": "https://localhost:8080/"
    },
    "id": "PCPZZtpVBNxh",
    "outputId": "c341b3a8-9f41-44b5-8bc7-79287dc20759",
    "scrolled": true,
    "tags": []
   },
   "outputs": [],
   "source": [
    "# ==================================================================================================\n",
    "# Yufei Li\n",
    "# Princeton University\n",
    "# yl5385@princeton.edu\n",
    "\n",
    "# Feburay 2023\n",
    "\n",
    "# Note:In this demo, the neural network is synthesized using the TensorFlow (verion: 2.11.0) framework. \n",
    "# Please install TensorFlow according to the official guidance, then import TensorFlow and other dependent modules.\n",
    "# ==================================================================================================\n",
    "\n",
    "!pip install pandas numpy matplotlib\n",
    "!pip install tensorflow\n",
    "!pip install optuna"
   ]
  },
  {
   "cell_type": "code",
   "execution_count": null,
   "metadata": {
    "colab": {
     "base_uri": "https://localhost:8080/"
    },
    "id": "ugbgmewAO313",
    "outputId": "c8f00111-7aff-490f-a7d9-ed971423c947",
    "scrolled": true,
    "tags": []
   },
   "outputs": [],
   "source": [
    "import tensorflow as tf\n",
    "\n",
    "import matplotlib.pyplot as plt\n",
    "import numpy as np\n",
    "import pandas as pd\n",
    "import random\n",
    "import copy\n",
    "import csv\n",
    "import math\n",
    "import cmath\n",
    "import time\n",
    "\n",
    "import optuna\n",
    "\n",
    "inFilename = \"Input_Yo20op272_ana.csv\"\n",
    "outFilename = \"Output_Yo20op272_ana.csv\"\n",
    "\n",
    "Input = pd.read_csv(inFilename,header=None)\n",
    "Output = pd.read_csv(outFilename,header=None)\n",
    "\n",
    "print(Input.dtypes)\n",
    "print(Output.dtypes)\n",
    "\n",
    "inputs = []\n",
    "outputs = []\n",
    "\n",
    "inputs = np.array(Input)\n",
    "outputs = np.array(Output)\n",
    "print(inputs)\n",
    "print(outputs)"
   ]
  },
  {
   "cell_type": "code",
   "execution_count": null,
   "metadata": {
    "colab": {
     "base_uri": "https://localhost:8080/"
    },
    "id": "Jzhcz0jETg-j",
    "outputId": "e769f805-e7fe-463c-ee53-fc730028c983"
   },
   "outputs": [],
   "source": [
    "# Randomize the order of the inputs, so they can be evenly distributed for training, testing, and validation\n",
    "\n",
    "num_inputs = len(inputs)\n",
    "print(\"Total Number of Dataset is:\",num_inputs)\n",
    "randomize = np.arange(num_inputs)\n",
    "print(randomize)\n",
    "\n",
    "inputs_origin = copy.deepcopy(inputs[randomize])\n",
    "outputs_origin = copy.deepcopy(outputs[randomize])\n",
    "print(inputs_origin)\n",
    "\n",
    "random.Random(5).shuffle(randomize)\n",
    "print(randomize)\n",
    "# Swap the consecutive indexes (0, 1, 2, etc) with the randomized indexes\n",
    "inputs_real = copy.deepcopy(inputs_origin[randomize])\n",
    "outputs_real = copy.deepcopy(outputs_origin[randomize])\n",
    "print(inputs_real)\n",
    "print(outputs_real)\n",
    "\n",
    "# Split the recordings (group of samples) into two sets: training and testing\n",
    "TRAIN_SPLIT = int(0.7 * num_inputs)\n",
    "inputs_train, inputs_test = np.split(inputs_real, [TRAIN_SPLIT])\n",
    "outputs_train, outputs_test = np.split(outputs_real, [TRAIN_SPLIT])\n",
    "\n",
    "num_inputs_train = len(inputs_train)\n",
    "print(\"Total Number of training Dataset is:\",num_inputs_train)\n",
    "print(\"Dataset randomization and separation complete!\")"
   ]
  },
  {
   "cell_type": "code",
   "execution_count": null,
   "metadata": {
    "colab": {
     "base_uri": "https://localhost:8080/"
    },
    "id": "29MhrBmsO4xm",
    "outputId": "8ae5f5ae-e1d4-419a-8df7-9c993e9d29e2"
   },
   "outputs": [],
   "source": [
    "EPOCHS = 500\n",
    "\n",
    "def objective(trial):\n",
    "    #Clear clutter from previous tf.keras session graphs.\n",
    "    #tf.keras.backend.clear_session()\n",
    "    \n",
    "    #Define normalization layer\n",
    "    Normlayer1=tf.keras.layers.Normalization()\n",
    "    Normlayer1.adapt(inputs_train)\n",
    "    \n",
    "    #Model construction (2140 dataset)\n",
    "    #Optimize the numbers of layers and their units.\n",
    "    model = tf.keras.Sequential()\n",
    "    model.add(Normlayer1)    \n",
    "    model.add(tf.keras.layers.Dense(43, activation='sigmoid'))\n",
    "    model.add(tf.keras.layers.Dense(56, activation='sigmoid'))\n",
    "    model.add(tf.keras.layers.Dense(43, activation='sigmoid'))\n",
    "    model.add(tf.keras.layers.Dense(8))\n",
    "\n",
    "    #Defining learning rate schedule\n",
    "    LR_INIT = trial.suggest_float(\"lr_init\", 1e-3, 5e-1, log=True)\n",
    "    DECAY_EPOCHS = trial.suggest_int(\"decay_epochs\", 10, 200, log=True)\n",
    "    DECAY_RATE = trial.suggest_float(\"decay_rate\", 0.4, 0.9, log=True)\n",
    "    BATCH_SIZE = trial.suggest_categorical(\"batch_size\", [16, 32, 64, 128, 256, 512, 1024])\n",
    "    \n",
    "    lr_schedule = tf.keras.optimizers.schedules.ExponentialDecay(\n",
    "    LR_INIT,\n",
    "    decay_steps=math.ceil(num_inputs_train/BATCH_SIZE)*DECAY_EPOCHS,\n",
    "    decay_rate=DECAY_RATE,\n",
    "    staircase=True)\n",
    "    \n",
    "    #Compile model\n",
    "    opt = tf.keras.optimizers.Adam(learning_rate=lr_schedule)\n",
    "    model.compile(optimizer=opt, loss='mse', metrics=['mse'])\n",
    "    \n",
    "    history = model.fit(inputs_train, outputs_train, epochs=EPOCHS, batch_size=BATCH_SIZE, validation_data=(inputs_test, outputs_test), verbose=0)\n",
    "\n",
    "    # Evaluate the model accuracy on the validation set.\n",
    "    score = model.evaluate(inputs_test, outputs_test, verbose=0)\n",
    "    return score[1]\n",
    "print(\"Optimization object construction complete!\")"
   ]
  },
  {
   "cell_type": "code",
   "execution_count": null,
   "metadata": {
    "colab": {
     "base_uri": "https://localhost:8080/"
    },
    "id": "nrebGnmp6tnl",
    "outputId": "ab2e2662-e941-4e49-92d0-593c5528277b",
    "scrolled": true,
    "tags": []
   },
   "outputs": [],
   "source": [
    "if __name__ == \"__main__\":\n",
    "    study = optuna.create_study(direction=\"minimize\")\n",
    "    study.optimize(objective, n_trials=200)\n",
    "    \n",
    "    print(\"Number of finished trials: \", len(study.trials))       \n",
    "    \n",
    "    print(\"Best trial:\")\n",
    "    trial = study.best_trial\n",
    "\n",
    "    print(\"  Value: \", trial.value)\n",
    "\n",
    "    print(\"  Params: \")\n",
    "    for key, value in trial.params.items():\n",
    "        print(\"    {}: {}\".format(key, value))"
   ]
  },
  {
   "cell_type": "code",
   "execution_count": null,
   "metadata": {
    "colab": {
     "base_uri": "https://localhost:8080/",
     "height": 542
    },
    "id": "1gEAmmoB3Vi5",
    "outputId": "e9969be2-51bc-4468-c1bd-ac99f58d963f"
   },
   "outputs": [],
   "source": [
    "optuna.visualization.plot_optimization_history(study)#Plotting the optimization history of the study."
   ]
  },
  {
   "cell_type": "code",
   "execution_count": null,
   "metadata": {
    "colab": {
     "base_uri": "https://localhost:8080/",
     "height": 559
    },
    "id": "YO7EXI19Bbpo",
    "outputId": "2afda139-b37b-48c3-9b51-258e8c147c6a"
   },
   "outputs": [],
   "source": [
    "optuna.visualization.plot_intermediate_values(study)#Visualizing the Learning Curves of the Trials"
   ]
  },
  {
   "cell_type": "code",
   "execution_count": null,
   "metadata": {
    "colab": {
     "base_uri": "https://localhost:8080/",
     "height": 542
    },
    "id": "hondL6qaBzAG",
    "outputId": "26f6682a-17d7-44c2-dbd1-c2d2c117a521"
   },
   "outputs": [],
   "source": [
    "optuna.visualization.plot_parallel_coordinate(study)#Visualizing High-dimensional Parameter Relationships"
   ]
  },
  {
   "cell_type": "code",
   "execution_count": null,
   "metadata": {
    "colab": {
     "base_uri": "https://localhost:8080/",
     "height": 542
    },
    "id": "VBBQ6xP3B95v",
    "outputId": "bcc9b275-1758-4299-ff29-4b3dd6a664ce"
   },
   "outputs": [],
   "source": [
    "optuna.visualization.plot_parallel_coordinate(study, params=['lr_init', 'decay_epochs', 'decay_rate'])#Selecting Parameters to Visualize"
   ]
  },
  {
   "cell_type": "code",
   "execution_count": null,
   "metadata": {
    "colab": {
     "base_uri": "https://localhost:8080/",
     "height": 542
    },
    "id": "G656q4EkCKA7",
    "outputId": "09c609c5-baaf-4ae0-e51d-5e591e0a9e13"
   },
   "outputs": [],
   "source": [
    "optuna.visualization.plot_contour(study)#Visualizing Parameter Relationships"
   ]
  },
  {
   "cell_type": "code",
   "execution_count": null,
   "metadata": {
    "id": "EPgkkZlpCTk9"
   },
   "outputs": [],
   "source": [
    "optuna.visualization.plot_contour(study, params=['n_units_l0', 'n_units_l1'])#Selecting Parameters to Visualize"
   ]
  },
  {
   "cell_type": "code",
   "execution_count": null,
   "metadata": {
    "colab": {
     "base_uri": "https://localhost:8080/",
     "height": 542
    },
    "id": "D2XDYwAA4eZz",
    "outputId": "3864c336-697c-4a97-aa8b-9eafe142afc7"
   },
   "outputs": [],
   "source": [
    "optuna.visualization.plot_slice(study)#Plotting the accuracies for each hyperparameter for each trial. Visualizing Individual Parameters"
   ]
  },
  {
   "cell_type": "code",
   "execution_count": null,
   "metadata": {
    "id": "mIBJIVoICgKV"
   },
   "outputs": [],
   "source": [
    "optuna.visualization.plot_slice(study, params=['n_units_l0', 'n_units_l1'])#Selecting Parameters to Visualize"
   ]
  },
  {
   "cell_type": "code",
   "execution_count": null,
   "metadata": {
    "colab": {
     "base_uri": "https://localhost:8080/",
     "height": 542
    },
    "id": "At1CM3POCmQY",
    "outputId": "b33caf77-b8a9-4627-a482-ed130f653df1"
   },
   "outputs": [],
   "source": [
    "optuna.visualization.plot_param_importances(study)#Visualizing Parameter Importances"
   ]
  },
  {
   "cell_type": "code",
   "execution_count": null,
   "metadata": {
    "colab": {
     "base_uri": "https://localhost:8080/",
     "height": 542
    },
    "id": "w2CL1_ixgvnB",
    "outputId": "e611da81-20d6-494f-8a83-fc660c9449c9"
   },
   "outputs": [],
   "source": [
    "optuna.visualization.plot_edf(study)"
   ]
  }
 ],
 "metadata": {
  "colab": {
   "collapsed_sections": [],
   "name": "YdqFNN_ADAM_2_Optuna_Ydq50op24Ydq20op47.ipynb",
   "provenance": []
  },
  "kernelspec": {
   "display_name": "Python 3 (ipykernel)",
   "language": "python",
   "name": "python3"
  },
  "language_info": {
   "codemirror_mode": {
    "name": "ipython",
    "version": 3
   },
   "file_extension": ".py",
   "mimetype": "text/x-python",
   "name": "python",
   "nbconvert_exporter": "python",
   "pygments_lexer": "ipython3",
   "version": "3.9.13"
  }
 },
 "nbformat": 4,
 "nbformat_minor": 4
}
