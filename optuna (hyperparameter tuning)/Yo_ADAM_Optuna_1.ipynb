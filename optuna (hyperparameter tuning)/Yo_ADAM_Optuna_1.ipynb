{
 "cells": [
  {
   "cell_type": "code",
   "execution_count": null,
   "metadata": {
    "colab": {
     "base_uri": "https://localhost:8080/"
    },
    "id": "PCPZZtpVBNxh",
    "outputId": "e02e9cb4-b782-4d32-d3f2-04ab32f6411c",
    "scrolled": true
   },
   "outputs": [],
   "source": [
    "# ==================================================================================================\n",
    "# Yufei Li\n",
    "# Princeton University\n",
    "# yl5385@princeton.edu\n",
    "\n",
    "# Feburay 2023\n",
    "\n",
    "# Note:In this demo, the neural network is synthesized using the TensorFlow (verion: 2.11.0) framework. \n",
    "# Please install TensorFlow according to the official guidance, then import TensorFlow and other dependent modules.\n",
    "# ==================================================================================================\n",
    "\n",
    "!pip install pandas numpy matplotlib\n",
    "!pip install tensorflow\n",
    "!pip install optuna"
   ]
  },
  {
   "cell_type": "code",
   "execution_count": null,
   "metadata": {
    "colab": {
     "base_uri": "https://localhost:8080/"
    },
    "id": "ugbgmewAO313",
    "outputId": "d3ee69ac-b8d9-4046-a6a2-c272c8172bc8",
    "scrolled": true
   },
   "outputs": [],
   "source": [
    "import tensorflow as tf\n",
    "\n",
    "import matplotlib.pyplot as plt\n",
    "import numpy as np\n",
    "import pandas as pd\n",
    "import random\n",
    "import copy\n",
    "import csv\n",
    "import math\n",
    "import cmath\n",
    "import time\n",
    "\n",
    "import optuna\n",
    "\n",
    "inFilename = \"Input_Yo20op272_ana.csv\"\n",
    "outFilename = \"Output_Yo20op272_ana.csv\"\n",
    "\n",
    "Input = pd.read_csv(inFilename,header=None)\n",
    "Output = pd.read_csv(outFilename,header=None)\n",
    "\n",
    "print(Input.dtypes)\n",
    "print(Output.dtypes)\n",
    "\n",
    "inputs = []\n",
    "outputs = []\n",
    "\n",
    "inputs = np.array(Input)\n",
    "outputs = np.array(Output)\n",
    "print(inputs)\n",
    "print(outputs)"
   ]
  },
  {
   "cell_type": "code",
   "execution_count": null,
   "metadata": {
    "colab": {
     "base_uri": "https://localhost:8080/"
    },
    "id": "Jzhcz0jETg-j",
    "outputId": "6e1e0b75-20e5-4b31-949a-1022b36d4b07"
   },
   "outputs": [],
   "source": [
    "# Randomize the order of the inputs, so they can be evenly distributed for training, testing, and validation\n",
    "\n",
    "num_inputs = len(inputs)\n",
    "print(\"Total Number of Dataset is:\",num_inputs)\n",
    "randomize = np.arange(num_inputs)\n",
    "print(randomize)\n",
    "\n",
    "inputs_origin = copy.deepcopy(inputs[randomize])\n",
    "outputs_origin = copy.deepcopy(outputs[randomize])\n",
    "print(inputs_origin)\n",
    "\n",
    "random.Random(5).shuffle(randomize)\n",
    "print(randomize)\n",
    "# Swap the consecutive indexes (0, 1, 2, etc) with the randomized indexes\n",
    "inputs_real = copy.deepcopy(inputs_origin[randomize])\n",
    "outputs_real = copy.deepcopy(outputs_origin[randomize])\n",
    "print(inputs_real)\n",
    "print(outputs_real)\n",
    "\n",
    "# Split the recordings (group of samples) into two sets: training and testing\n",
    "TRAIN_SPLIT = int(0.7 * num_inputs)\n",
    "inputs_train, inputs_test = np.split(inputs_real, [TRAIN_SPLIT])\n",
    "outputs_train, outputs_test = np.split(outputs_real, [TRAIN_SPLIT])\n",
    "\n",
    "num_inputs_train = len(inputs_train)\n",
    "print(\"Total Number of training Dataset is:\",num_inputs_train)\n",
    "print(\"Dataset randomization and separation complete!\")"
   ]
  },
  {
   "cell_type": "code",
   "execution_count": null,
   "metadata": {
    "colab": {
     "base_uri": "https://localhost:8080/"
    },
    "id": "29MhrBmsO4xm",
    "outputId": "3befb570-ed17-4c3b-8d58-245e0066289c"
   },
   "outputs": [],
   "source": [
    "EPOCHS = 500\n",
    "\n",
    "def objective(trial):\n",
    "    #Clear clutter from previous tf.keras session graphs.\n",
    "    #tf.keras.backend.clear_session()\n",
    "    \n",
    "    #Define normalization layer\n",
    "    Normlayer1=tf.keras.layers.Normalization()\n",
    "    Normlayer1.adapt(inputs_real)\n",
    "    \n",
    "    #Model construction\n",
    "    #Optimize the numbers of layers and their units.\n",
    "    n_layers = trial.suggest_int(\"n_layers\", 2, 6)\n",
    "    model = tf.keras.Sequential()    \n",
    "    model.add(Normlayer1)\n",
    "    for i in range(n_layers):\n",
    "        neurons_hidden = trial.suggest_int(\"n_units_l{}\".format(i), 32, 128, log=True)\n",
    "        model.add(tf.keras.layers.Dense(neurons_hidden, activation=\"sigmoid\"))\n",
    "    model.add(tf.keras.layers.Dense(8))\n",
    "\n",
    "    #Defining learning rate schedule\n",
    "    LR_INIT = trial.suggest_float(\"lr_init\", 1e-3, 5e-1, log=True)\n",
    "    DECAY_EPOCHS = trial.suggest_int(\"decay_epochs\", 10, 200, log=True)\n",
    "    DECAY_RATE = trial.suggest_float(\"decay_rate\", 0.4, 0.9, log=True)\n",
    "    BATCH_SIZE = trial.suggest_categorical(\"batch_size\", [16, 32, 64, 128, 256, 512, 1024])\n",
    "\n",
    "    lr_schedule = tf.keras.optimizers.schedules.ExponentialDecay(\n",
    "    LR_INIT,\n",
    "    decay_steps=math.ceil(num_inputs_train/BATCH_SIZE)*DECAY_EPOCHS,\n",
    "    decay_rate=DECAY_RATE,\n",
    "    staircase=True)\n",
    "    \n",
    "    #Compile model\n",
    "    opt = tf.keras.optimizers.Adam(learning_rate=lr_schedule)\n",
    "    model.compile(optimizer=opt, loss='mse', metrics=['mse'])\n",
    "    \n",
    "    history = model.fit(inputs_train, outputs_train, epochs=EPOCHS, batch_size=BATCH_SIZE, validation_data=(inputs_test, outputs_test), verbose=0)\n",
    "\n",
    "    # Evaluate the model accuracy on the validation set.\n",
    "    score = model.evaluate(inputs_test, outputs_test, verbose=0)\n",
    "    return score[1]\n",
    "print(\"Optimization object construction complete!\")"
   ]
  },
  {
   "cell_type": "code",
   "execution_count": null,
   "metadata": {
    "colab": {
     "base_uri": "https://localhost:8080/"
    },
    "id": "nrebGnmp6tnl",
    "outputId": "b3ac9602-7151-4d5c-9b3b-7c737515e609",
    "scrolled": true
   },
   "outputs": [],
   "source": [
    "if __name__ == \"__main__\":\n",
    "    study = optuna.create_study(direction=\"minimize\")\n",
    "    study.optimize(objective, n_trials=100)\n",
    "    \n",
    "    print(\"Number of finished trials: \", len(study.trials))       \n",
    "    \n",
    "    print(\"Best trial:\")\n",
    "    trial = study.best_trial\n",
    "\n",
    "    print(\"  Value: \", trial.value)\n",
    "\n",
    "    print(\"  Params: \")\n",
    "    for key, value in trial.params.items():\n",
    "        print(\"    {}: {}\".format(key, value))"
   ]
  },
  {
   "cell_type": "code",
   "execution_count": null,
   "metadata": {
    "colab": {
     "base_uri": "https://localhost:8080/",
     "height": 165
    },
    "id": "1gEAmmoB3Vi5",
    "outputId": "0533cc2d-7b87-4f9e-e369-4e6d6c9969eb"
   },
   "outputs": [],
   "source": [
    "optuna.visualization.plot_optimization_history(study)#Plotting the optimization history of the study."
   ]
  },
  {
   "cell_type": "code",
   "execution_count": null,
   "metadata": {
    "id": "YO7EXI19Bbpo"
   },
   "outputs": [],
   "source": [
    "optuna.visualization.plot_intermediate_values(study)#Visualizing the Learning Curves of the Trials"
   ]
  },
  {
   "cell_type": "code",
   "execution_count": null,
   "metadata": {
    "id": "hondL6qaBzAG"
   },
   "outputs": [],
   "source": [
    "optuna.visualization.plot_parallel_coordinate(study)#Visualizing High-dimensional Parameter Relationships"
   ]
  },
  {
   "cell_type": "code",
   "execution_count": null,
   "metadata": {
    "colab": {
     "base_uri": "https://localhost:8080/",
     "height": 542
    },
    "id": "VBBQ6xP3B95v",
    "outputId": "07fe6926-0f1d-4170-f896-20d973b967ce"
   },
   "outputs": [],
   "source": [
    "optuna.visualization.plot_parallel_coordinate(study, params=['lr_init', 'n_layers', 'n_units_l0', 'n_units_l1', 'n_units_l2', 'n_units_l3', 'decay_epochs', 'decay_rate'])#Selecting Parameters to Visualize"
   ]
  },
  {
   "cell_type": "code",
   "execution_count": null,
   "metadata": {
    "id": "G656q4EkCKA7"
   },
   "outputs": [],
   "source": [
    "optuna.visualization.plot_contour(study)#Visualizing Parameter Relationships"
   ]
  },
  {
   "cell_type": "code",
   "execution_count": null,
   "metadata": {
    "colab": {
     "base_uri": "https://localhost:8080/",
     "height": 542
    },
    "id": "EPgkkZlpCTk9",
    "outputId": "d06837b6-e6a6-4e7b-a385-c11dd08e443c"
   },
   "outputs": [],
   "source": [
    "optuna.visualization.plot_contour(study, params=['n_units_l0', 'n_units_l1'])#Selecting Parameters to Visualize"
   ]
  },
  {
   "cell_type": "code",
   "execution_count": null,
   "metadata": {
    "colab": {
     "base_uri": "https://localhost:8080/",
     "height": 562
    },
    "id": "D2XDYwAA4eZz",
    "outputId": "7c188b5e-4d2a-4772-b44b-add423e7f1ca"
   },
   "outputs": [],
   "source": [
    "optuna.visualization.plot_slice(study)#Plotting the accuracies for each hyperparameter for each trial. Visualizing Individual Parameters"
   ]
  },
  {
   "cell_type": "code",
   "execution_count": null,
   "metadata": {
    "colab": {
     "base_uri": "https://localhost:8080/",
     "height": 542
    },
    "id": "mIBJIVoICgKV",
    "outputId": "7dd344dc-f0dc-47f4-982e-7228e758e514"
   },
   "outputs": [],
   "source": [
    "optuna.visualization.plot_slice(study, params=['n_units_l0', 'n_units_l1'])#Selecting Parameters to Visualize"
   ]
  },
  {
   "cell_type": "code",
   "execution_count": null,
   "metadata": {
    "id": "At1CM3POCmQY"
   },
   "outputs": [],
   "source": [
    "optuna.visualization.plot_param_importances(study)#Visualizing Parameter Importances"
   ]
  },
  {
   "cell_type": "code",
   "execution_count": null,
   "metadata": {
    "colab": {
     "base_uri": "https://localhost:8080/",
     "height": 542
    },
    "id": "w2CL1_ixgvnB",
    "outputId": "80aabf56-fbac-422a-d34c-5513650eb91c"
   },
   "outputs": [],
   "source": [
    "optuna.visualization.plot_edf(study)"
   ]
  }
 ],
 "metadata": {
  "colab": {
   "collapsed_sections": [],
   "provenance": []
  },
  "kernelspec": {
   "display_name": "Python 3 (ipykernel)",
   "language": "python",
   "name": "python3"
  },
  "language_info": {
   "codemirror_mode": {
    "name": "ipython",
    "version": 3
   },
   "file_extension": ".py",
   "mimetype": "text/x-python",
   "name": "python",
   "nbconvert_exporter": "python",
   "pygments_lexer": "ipython3",
   "version": "3.9.13"
  }
 },
 "nbformat": 4,
 "nbformat_minor": 1
}
